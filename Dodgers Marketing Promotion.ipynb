{
 "cells": [
  {
   "cell_type": "code",
   "execution_count": 1,
   "metadata": {},
   "outputs": [],
   "source": [
    "# Load Python libraries\n",
    "import pandas as pd\n",
    "import numpy as np\n",
    "import matplotlib.pyplot as plt\n",
    "import seaborn as sns"
   ]
  },
  {
   "cell_type": "code",
   "execution_count": 2,
   "metadata": {},
   "outputs": [],
   "source": [
    "# Load the data\n",
    "df = pd.read_csv('dodgers.csv')"
   ]
  },
  {
   "cell_type": "code",
   "execution_count": 3,
   "metadata": {},
   "outputs": [
    {
     "data": {
      "text/html": [
       "<div>\n",
       "<style scoped>\n",
       "    .dataframe tbody tr th:only-of-type {\n",
       "        vertical-align: middle;\n",
       "    }\n",
       "\n",
       "    .dataframe tbody tr th {\n",
       "        vertical-align: top;\n",
       "    }\n",
       "\n",
       "    .dataframe thead th {\n",
       "        text-align: right;\n",
       "    }\n",
       "</style>\n",
       "<table border=\"1\" class=\"dataframe\">\n",
       "  <thead>\n",
       "    <tr style=\"text-align: right;\">\n",
       "      <th></th>\n",
       "      <th>month</th>\n",
       "      <th>day</th>\n",
       "      <th>attend</th>\n",
       "      <th>day_of_week</th>\n",
       "      <th>opponent</th>\n",
       "      <th>temp</th>\n",
       "      <th>skies</th>\n",
       "      <th>day_night</th>\n",
       "      <th>cap</th>\n",
       "      <th>shirt</th>\n",
       "      <th>fireworks</th>\n",
       "      <th>bobblehead</th>\n",
       "    </tr>\n",
       "  </thead>\n",
       "  <tbody>\n",
       "    <tr>\n",
       "      <th>0</th>\n",
       "      <td>APR</td>\n",
       "      <td>10</td>\n",
       "      <td>56000</td>\n",
       "      <td>Tuesday</td>\n",
       "      <td>Pirates</td>\n",
       "      <td>67</td>\n",
       "      <td>Clear</td>\n",
       "      <td>Day</td>\n",
       "      <td>NO</td>\n",
       "      <td>NO</td>\n",
       "      <td>NO</td>\n",
       "      <td>NO</td>\n",
       "    </tr>\n",
       "    <tr>\n",
       "      <th>1</th>\n",
       "      <td>APR</td>\n",
       "      <td>11</td>\n",
       "      <td>29729</td>\n",
       "      <td>Wednesday</td>\n",
       "      <td>Pirates</td>\n",
       "      <td>58</td>\n",
       "      <td>Cloudy</td>\n",
       "      <td>Night</td>\n",
       "      <td>NO</td>\n",
       "      <td>NO</td>\n",
       "      <td>NO</td>\n",
       "      <td>NO</td>\n",
       "    </tr>\n",
       "    <tr>\n",
       "      <th>2</th>\n",
       "      <td>APR</td>\n",
       "      <td>12</td>\n",
       "      <td>28328</td>\n",
       "      <td>Thursday</td>\n",
       "      <td>Pirates</td>\n",
       "      <td>57</td>\n",
       "      <td>Cloudy</td>\n",
       "      <td>Night</td>\n",
       "      <td>NO</td>\n",
       "      <td>NO</td>\n",
       "      <td>NO</td>\n",
       "      <td>NO</td>\n",
       "    </tr>\n",
       "    <tr>\n",
       "      <th>3</th>\n",
       "      <td>APR</td>\n",
       "      <td>13</td>\n",
       "      <td>31601</td>\n",
       "      <td>Friday</td>\n",
       "      <td>Padres</td>\n",
       "      <td>54</td>\n",
       "      <td>Cloudy</td>\n",
       "      <td>Night</td>\n",
       "      <td>NO</td>\n",
       "      <td>NO</td>\n",
       "      <td>YES</td>\n",
       "      <td>NO</td>\n",
       "    </tr>\n",
       "    <tr>\n",
       "      <th>4</th>\n",
       "      <td>APR</td>\n",
       "      <td>14</td>\n",
       "      <td>46549</td>\n",
       "      <td>Saturday</td>\n",
       "      <td>Padres</td>\n",
       "      <td>57</td>\n",
       "      <td>Cloudy</td>\n",
       "      <td>Night</td>\n",
       "      <td>NO</td>\n",
       "      <td>NO</td>\n",
       "      <td>NO</td>\n",
       "      <td>NO</td>\n",
       "    </tr>\n",
       "  </tbody>\n",
       "</table>\n",
       "</div>"
      ],
      "text/plain": [
       "  month  day  attend day_of_week opponent  temp   skies day_night cap shirt  \\\n",
       "0   APR   10   56000     Tuesday  Pirates    67  Clear        Day  NO    NO   \n",
       "1   APR   11   29729   Wednesday  Pirates    58  Cloudy     Night  NO    NO   \n",
       "2   APR   12   28328    Thursday  Pirates    57  Cloudy     Night  NO    NO   \n",
       "3   APR   13   31601      Friday   Padres    54  Cloudy     Night  NO    NO   \n",
       "4   APR   14   46549    Saturday   Padres    57  Cloudy     Night  NO    NO   \n",
       "\n",
       "  fireworks bobblehead  \n",
       "0        NO         NO  \n",
       "1        NO         NO  \n",
       "2        NO         NO  \n",
       "3       YES         NO  \n",
       "4        NO         NO  "
      ]
     },
     "execution_count": 3,
     "metadata": {},
     "output_type": "execute_result"
    }
   ],
   "source": [
    "# View the data\n",
    "df.head()"
   ]
  },
  {
   "cell_type": "code",
   "execution_count": 4,
   "metadata": {},
   "outputs": [
    {
     "data": {
      "text/html": [
       "<div>\n",
       "<style scoped>\n",
       "    .dataframe tbody tr th:only-of-type {\n",
       "        vertical-align: middle;\n",
       "    }\n",
       "\n",
       "    .dataframe tbody tr th {\n",
       "        vertical-align: top;\n",
       "    }\n",
       "\n",
       "    .dataframe thead th {\n",
       "        text-align: right;\n",
       "    }\n",
       "</style>\n",
       "<table border=\"1\" class=\"dataframe\">\n",
       "  <thead>\n",
       "    <tr style=\"text-align: right;\">\n",
       "      <th></th>\n",
       "      <th>month</th>\n",
       "      <th>day</th>\n",
       "      <th>attend</th>\n",
       "      <th>day_of_week</th>\n",
       "      <th>opponent</th>\n",
       "      <th>temp</th>\n",
       "      <th>skies</th>\n",
       "      <th>day_night</th>\n",
       "      <th>promo</th>\n",
       "    </tr>\n",
       "  </thead>\n",
       "  <tbody>\n",
       "    <tr>\n",
       "      <th>0</th>\n",
       "      <td>APR</td>\n",
       "      <td>10</td>\n",
       "      <td>56000</td>\n",
       "      <td>Tuesday</td>\n",
       "      <td>Pirates</td>\n",
       "      <td>67</td>\n",
       "      <td>Clear</td>\n",
       "      <td>Day</td>\n",
       "      <td>none</td>\n",
       "    </tr>\n",
       "    <tr>\n",
       "      <th>1</th>\n",
       "      <td>APR</td>\n",
       "      <td>11</td>\n",
       "      <td>29729</td>\n",
       "      <td>Wednesday</td>\n",
       "      <td>Pirates</td>\n",
       "      <td>58</td>\n",
       "      <td>Cloudy</td>\n",
       "      <td>Night</td>\n",
       "      <td>none</td>\n",
       "    </tr>\n",
       "    <tr>\n",
       "      <th>2</th>\n",
       "      <td>APR</td>\n",
       "      <td>12</td>\n",
       "      <td>28328</td>\n",
       "      <td>Thursday</td>\n",
       "      <td>Pirates</td>\n",
       "      <td>57</td>\n",
       "      <td>Cloudy</td>\n",
       "      <td>Night</td>\n",
       "      <td>none</td>\n",
       "    </tr>\n",
       "    <tr>\n",
       "      <th>3</th>\n",
       "      <td>APR</td>\n",
       "      <td>13</td>\n",
       "      <td>31601</td>\n",
       "      <td>Friday</td>\n",
       "      <td>Padres</td>\n",
       "      <td>54</td>\n",
       "      <td>Cloudy</td>\n",
       "      <td>Night</td>\n",
       "      <td>fireworks</td>\n",
       "    </tr>\n",
       "    <tr>\n",
       "      <th>4</th>\n",
       "      <td>APR</td>\n",
       "      <td>14</td>\n",
       "      <td>46549</td>\n",
       "      <td>Saturday</td>\n",
       "      <td>Padres</td>\n",
       "      <td>57</td>\n",
       "      <td>Cloudy</td>\n",
       "      <td>Night</td>\n",
       "      <td>none</td>\n",
       "    </tr>\n",
       "    <tr>\n",
       "      <th>...</th>\n",
       "      <td>...</td>\n",
       "      <td>...</td>\n",
       "      <td>...</td>\n",
       "      <td>...</td>\n",
       "      <td>...</td>\n",
       "      <td>...</td>\n",
       "      <td>...</td>\n",
       "      <td>...</td>\n",
       "      <td>...</td>\n",
       "    </tr>\n",
       "    <tr>\n",
       "      <th>76</th>\n",
       "      <td>SEP</td>\n",
       "      <td>29</td>\n",
       "      <td>40724</td>\n",
       "      <td>Saturday</td>\n",
       "      <td>Rockies</td>\n",
       "      <td>84</td>\n",
       "      <td>Cloudy</td>\n",
       "      <td>Night</td>\n",
       "      <td>none</td>\n",
       "    </tr>\n",
       "    <tr>\n",
       "      <th>77</th>\n",
       "      <td>SEP</td>\n",
       "      <td>30</td>\n",
       "      <td>35607</td>\n",
       "      <td>Sunday</td>\n",
       "      <td>Rockies</td>\n",
       "      <td>95</td>\n",
       "      <td>Clear</td>\n",
       "      <td>Day</td>\n",
       "      <td>none</td>\n",
       "    </tr>\n",
       "    <tr>\n",
       "      <th>78</th>\n",
       "      <td>OCT</td>\n",
       "      <td>1</td>\n",
       "      <td>33624</td>\n",
       "      <td>Monday</td>\n",
       "      <td>Giants</td>\n",
       "      <td>86</td>\n",
       "      <td>Clear</td>\n",
       "      <td>Night</td>\n",
       "      <td>none</td>\n",
       "    </tr>\n",
       "    <tr>\n",
       "      <th>79</th>\n",
       "      <td>OCT</td>\n",
       "      <td>2</td>\n",
       "      <td>42473</td>\n",
       "      <td>Tuesday</td>\n",
       "      <td>Giants</td>\n",
       "      <td>83</td>\n",
       "      <td>Clear</td>\n",
       "      <td>Night</td>\n",
       "      <td>none</td>\n",
       "    </tr>\n",
       "    <tr>\n",
       "      <th>80</th>\n",
       "      <td>OCT</td>\n",
       "      <td>3</td>\n",
       "      <td>34014</td>\n",
       "      <td>Wednesday</td>\n",
       "      <td>Giants</td>\n",
       "      <td>82</td>\n",
       "      <td>Cloudy</td>\n",
       "      <td>Night</td>\n",
       "      <td>none</td>\n",
       "    </tr>\n",
       "  </tbody>\n",
       "</table>\n",
       "<p>81 rows × 9 columns</p>\n",
       "</div>"
      ],
      "text/plain": [
       "   month  day  attend day_of_week opponent  temp   skies day_night      promo\n",
       "0    APR   10   56000     Tuesday  Pirates    67  Clear        Day       none\n",
       "1    APR   11   29729   Wednesday  Pirates    58  Cloudy     Night       none\n",
       "2    APR   12   28328    Thursday  Pirates    57  Cloudy     Night       none\n",
       "3    APR   13   31601      Friday   Padres    54  Cloudy     Night  fireworks\n",
       "4    APR   14   46549    Saturday   Padres    57  Cloudy     Night       none\n",
       "..   ...  ...     ...         ...      ...   ...     ...       ...        ...\n",
       "76   SEP   29   40724    Saturday  Rockies    84  Cloudy     Night       none\n",
       "77   SEP   30   35607      Sunday  Rockies    95  Clear        Day       none\n",
       "78   OCT    1   33624      Monday   Giants    86  Clear      Night       none\n",
       "79   OCT    2   42473     Tuesday   Giants    83  Clear      Night       none\n",
       "80   OCT    3   34014   Wednesday   Giants    82  Cloudy     Night       none\n",
       "\n",
       "[81 rows x 9 columns]"
      ]
     },
     "execution_count": 4,
     "metadata": {},
     "output_type": "execute_result"
    }
   ],
   "source": [
    "# I want to create a new column called promo that will combine the promotion items variables as one \n",
    "\n",
    "# Ceate a list of conditions\n",
    "conditions = [\n",
    "    (df.cap == 'YES'),\n",
    "    (df.shirt == 'YES'),\n",
    "    (df.fireworks == 'YES'),\n",
    "    (df.bobblehead == 'YES')\n",
    "    ]\n",
    "\n",
    "# Create a list of promotion variables\n",
    "values = ['cap', 'shirt', 'fireworks', 'bobblehead']\n",
    "\n",
    "# Create the new variable \n",
    "df['promo'] = np.select(conditions, values)\n",
    "# df\n",
    "\n",
    "# Games without promotions were given a value of 0. I want to change this to \"none\"\n",
    "df['promo'] = df['promo'].replace('0', 'none')\n",
    "#df\n",
    "\n",
    "#Now I can drop the individual promotion columns\n",
    "df.drop(values, axis=1, inplace=True)\n",
    "\n",
    "# display updated DataFrame\n",
    "df"
   ]
  },
  {
   "cell_type": "code",
   "execution_count": 5,
   "metadata": {},
   "outputs": [],
   "source": [
    "# Function to convert categorical variables into such\n",
    "def cat_convert(var):\n",
    "    df[var] = df[var].astype('category')\n",
    "    return df[var]"
   ]
  },
  {
   "cell_type": "code",
   "execution_count": 6,
   "metadata": {},
   "outputs": [],
   "source": [
    "# Lists of categorical and numerical variables\n",
    "cat_vars = ['month', 'day_of_week', 'opponent', 'skies', 'day_night', 'promo']\n",
    "num_vars = ['day', 'temp']"
   ]
  },
  {
   "cell_type": "code",
   "execution_count": 7,
   "metadata": {},
   "outputs": [],
   "source": [
    "# Convert categorical variables \n",
    "for var in cat_vars:\n",
    "    cat_convert(var)"
   ]
  },
  {
   "cell_type": "code",
   "execution_count": 8,
   "metadata": {},
   "outputs": [
    {
     "data": {
      "text/html": [
       "<div>\n",
       "<style scoped>\n",
       "    .dataframe tbody tr th:only-of-type {\n",
       "        vertical-align: middle;\n",
       "    }\n",
       "\n",
       "    .dataframe tbody tr th {\n",
       "        vertical-align: top;\n",
       "    }\n",
       "\n",
       "    .dataframe thead th {\n",
       "        text-align: right;\n",
       "    }\n",
       "</style>\n",
       "<table border=\"1\" class=\"dataframe\">\n",
       "  <thead>\n",
       "    <tr style=\"text-align: right;\">\n",
       "      <th></th>\n",
       "      <th>day</th>\n",
       "      <th>attend</th>\n",
       "      <th>temp</th>\n",
       "    </tr>\n",
       "  </thead>\n",
       "  <tbody>\n",
       "    <tr>\n",
       "      <th>count</th>\n",
       "      <td>81.000000</td>\n",
       "      <td>81.000000</td>\n",
       "      <td>81.000000</td>\n",
       "    </tr>\n",
       "    <tr>\n",
       "      <th>mean</th>\n",
       "      <td>16.135802</td>\n",
       "      <td>41040.074074</td>\n",
       "      <td>73.148148</td>\n",
       "    </tr>\n",
       "    <tr>\n",
       "      <th>std</th>\n",
       "      <td>9.605666</td>\n",
       "      <td>8297.539460</td>\n",
       "      <td>8.317318</td>\n",
       "    </tr>\n",
       "    <tr>\n",
       "      <th>min</th>\n",
       "      <td>1.000000</td>\n",
       "      <td>24312.000000</td>\n",
       "      <td>54.000000</td>\n",
       "    </tr>\n",
       "    <tr>\n",
       "      <th>25%</th>\n",
       "      <td>8.000000</td>\n",
       "      <td>34493.000000</td>\n",
       "      <td>67.000000</td>\n",
       "    </tr>\n",
       "    <tr>\n",
       "      <th>50%</th>\n",
       "      <td>15.000000</td>\n",
       "      <td>40284.000000</td>\n",
       "      <td>73.000000</td>\n",
       "    </tr>\n",
       "    <tr>\n",
       "      <th>75%</th>\n",
       "      <td>25.000000</td>\n",
       "      <td>46588.000000</td>\n",
       "      <td>79.000000</td>\n",
       "    </tr>\n",
       "    <tr>\n",
       "      <th>max</th>\n",
       "      <td>31.000000</td>\n",
       "      <td>56000.000000</td>\n",
       "      <td>95.000000</td>\n",
       "    </tr>\n",
       "  </tbody>\n",
       "</table>\n",
       "</div>"
      ],
      "text/plain": [
       "             day        attend       temp\n",
       "count  81.000000     81.000000  81.000000\n",
       "mean   16.135802  41040.074074  73.148148\n",
       "std     9.605666   8297.539460   8.317318\n",
       "min     1.000000  24312.000000  54.000000\n",
       "25%     8.000000  34493.000000  67.000000\n",
       "50%    15.000000  40284.000000  73.000000\n",
       "75%    25.000000  46588.000000  79.000000\n",
       "max    31.000000  56000.000000  95.000000"
      ]
     },
     "execution_count": 8,
     "metadata": {},
     "output_type": "execute_result"
    }
   ],
   "source": [
    "df.describe()"
   ]
  },
  {
   "cell_type": "code",
   "execution_count": 63,
   "metadata": {},
   "outputs": [],
   "source": [
    "def cat_boxplot(var, order_list, x_label):\n",
    "    sns.set_style(style='white')\n",
    "    plt.figure(figsize=(12, 6))\n",
    "    ax = sns.boxplot(x=var, y='attend', data=df, order=order_list, color='darkslateblue')\n",
    "    #ax.set_xticklabels(ax.get_xticklabels(), rotation=45)#, horizontalalignent='day')\n",
    "    plt.xlabel(x_label, size=16)\n",
    "    for pos in ['right', 'top']:\n",
    "        plt.gca().spines[pos].set_visible(False)\n",
    "    plt.ylabel('attendance', size=16)\n",
    "    \n",
    "    plt.show()"
   ]
  },
  {
   "cell_type": "code",
   "execution_count": 64,
   "metadata": {},
   "outputs": [
    {
     "data": {
      "image/png": "[encoded data removed]",
      "text/plain": [
       "<Figure size 864x432 with 1 Axes>"
      ]
     },
     "metadata": {},
     "output_type": "display_data"
    }
   ],
   "source": [
    "cat_boxplot('month', ['APR', 'MAY', 'JUN', 'JUL', 'AUG', 'SEP', 'OCT'], 'month')"
   ]
  },
  {
   "cell_type": "code",
   "execution_count": 54,
   "metadata": {},
   "outputs": [
    {
     "data": {
      "image/png": "[encoded data removed]",
      "text/plain": [
       "<Figure size 864x432 with 1 Axes>"
      ]
     },
     "metadata": {},
     "output_type": "display_data"
    }
   ],
   "source": [
    "cat_boxplot('day_of_week', ['Sunday', 'Monday', 'Tuesday', 'Wednesday', 'Thursday', 'Friday', 'Saturday'], 'day')"
   ]
  },
  {
   "cell_type": "code",
   "execution_count": 56,
   "metadata": {},
   "outputs": [
    {
     "data": {
      "image/png": "[encoded data removed]",
      "text/plain": [
       "<Figure size 864x432 with 1 Axes>"
      ]
     },
     "metadata": {},
     "output_type": "display_data"
    }
   ],
   "source": [
    "cat_boxplot('opponent', None, 'opponent')"
   ]
  },
  {
   "cell_type": "code",
   "execution_count": 58,
   "metadata": {},
   "outputs": [
    {
     "data": {
      "image/png": "[encoded data removed]",
      "text/plain": [
       "<Figure size 864x432 with 1 Axes>"
      ]
     },
     "metadata": {},
     "output_type": "display_data"
    }
   ],
   "source": [
    "cat_boxplot('skies', None, 'skies')"
   ]
  },
  {
   "cell_type": "code",
   "execution_count": 59,
   "metadata": {},
   "outputs": [
    {
     "data": {
      "image/png": "[encoded data removed]",
      "text/plain": [
       "<Figure size 864x432 with 1 Axes>"
      ]
     },
     "metadata": {},
     "output_type": "display_data"
    }
   ],
   "source": [
    "cat_boxplot('day_night', None, 'time of game')"
   ]
  },
  {
   "cell_type": "code",
   "execution_count": 60,
   "metadata": {},
   "outputs": [
    {
     "data": {
      "image/png": "[encoded data removed]",
      "text/plain": [
       "<Figure size 864x432 with 1 Axes>"
      ]
     },
     "metadata": {},
     "output_type": "display_data"
    }
   ],
   "source": [
    "cat_boxplot('promo', ['bobblehead', 'cap', 'fireworks', 'shirt', 'none'], 'promotion')"
   ]
  },
  {
   "cell_type": "markdown",
   "metadata": {},
   "source": [
    "Though there are months with less attended games than September and October, the maximum attendance is general much less than other months. This pattern can also be seen on games played on Monday's. Games that have bobblehead promotions have the most attendance.  "
   ]
  },
  {
   "cell_type": "code",
   "execution_count": 65,
   "metadata": {},
   "outputs": [],
   "source": [
    "def num_scatter(var, x_label):\n",
    "    sns.set_style(style='white')\n",
    "    plt.figure(figsize=(12, 6))\n",
    "    sns.scatterplot(x=var, y='attend', data=df, color='darkslateblue')\n",
    "    plt.xlabel(x_label, size=16)\n",
    "    for pos in ['right', 'top']:\n",
    "        plt.gca().spines[pos].set_visible(False)\n",
    "    plt.ylabel('attendance', size=16)\n",
    "    \n",
    "    plt.show()"
   ]
  },
  {
   "cell_type": "code",
   "execution_count": 66,
   "metadata": {},
   "outputs": [
    {
     "data": {
      "image/png": "[encoded data removed]",
      "text/plain": [
       "<Figure size 864x432 with 1 Axes>"
      ]
     },
     "metadata": {},
     "output_type": "display_data"
    }
   ],
   "source": [
    "num_scatter('day', 'date')"
   ]
  },
  {
   "cell_type": "code",
   "execution_count": 68,
   "metadata": {},
   "outputs": [
    {
     "data": {
      "image/png": "[encoded data removed]",
      "text/plain": [
       "<Figure size 864x432 with 1 Axes>"
      ]
     },
     "metadata": {},
     "output_type": "display_data"
    }
   ],
   "source": [
    "num_scatter('temp', 'temperature')"
   ]
  },
  {
   "cell_type": "markdown",
   "metadata": {},
   "source": [
    "There seems to be a trend with the temperature variable. I will look more into it. "
   ]
  },
  {
   "cell_type": "code",
   "execution_count": 11,
   "metadata": {},
   "outputs": [
    {
     "data": {
      "text/html": [
       "<div>\n",
       "<style scoped>\n",
       "    .dataframe tbody tr th:only-of-type {\n",
       "        vertical-align: middle;\n",
       "    }\n",
       "\n",
       "    .dataframe tbody tr th {\n",
       "        vertical-align: top;\n",
       "    }\n",
       "\n",
       "    .dataframe thead th {\n",
       "        text-align: right;\n",
       "    }\n",
       "</style>\n",
       "<table border=\"1\" class=\"dataframe\">\n",
       "  <thead>\n",
       "    <tr style=\"text-align: right;\">\n",
       "      <th></th>\n",
       "      <th>month</th>\n",
       "      <th>day</th>\n",
       "      <th>attend</th>\n",
       "      <th>day_of_week</th>\n",
       "      <th>opponent</th>\n",
       "      <th>temp</th>\n",
       "      <th>skies</th>\n",
       "      <th>day_night</th>\n",
       "      <th>promo</th>\n",
       "    </tr>\n",
       "  </thead>\n",
       "  <tbody>\n",
       "    <tr>\n",
       "      <th>54</th>\n",
       "      <td>AUG</td>\n",
       "      <td>5</td>\n",
       "      <td>42495</td>\n",
       "      <td>Sunday</td>\n",
       "      <td>Cubs</td>\n",
       "      <td>83</td>\n",
       "      <td>Clear</td>\n",
       "      <td>Day</td>\n",
       "      <td>cap</td>\n",
       "    </tr>\n",
       "    <tr>\n",
       "      <th>79</th>\n",
       "      <td>OCT</td>\n",
       "      <td>2</td>\n",
       "      <td>42473</td>\n",
       "      <td>Tuesday</td>\n",
       "      <td>Giants</td>\n",
       "      <td>83</td>\n",
       "      <td>Clear</td>\n",
       "      <td>Night</td>\n",
       "      <td>none</td>\n",
       "    </tr>\n",
       "    <tr>\n",
       "      <th>73</th>\n",
       "      <td>SEP</td>\n",
       "      <td>15</td>\n",
       "      <td>42449</td>\n",
       "      <td>Saturday</td>\n",
       "      <td>Cardinals</td>\n",
       "      <td>95</td>\n",
       "      <td>Clear</td>\n",
       "      <td>Night</td>\n",
       "      <td>none</td>\n",
       "    </tr>\n",
       "    <tr>\n",
       "      <th>63</th>\n",
       "      <td>AUG</td>\n",
       "      <td>26</td>\n",
       "      <td>41907</td>\n",
       "      <td>Sunday</td>\n",
       "      <td>Marlins</td>\n",
       "      <td>81</td>\n",
       "      <td>Clear</td>\n",
       "      <td>Day</td>\n",
       "      <td>none</td>\n",
       "    </tr>\n",
       "    <tr>\n",
       "      <th>76</th>\n",
       "      <td>SEP</td>\n",
       "      <td>29</td>\n",
       "      <td>40724</td>\n",
       "      <td>Saturday</td>\n",
       "      <td>Rockies</td>\n",
       "      <td>84</td>\n",
       "      <td>Cloudy</td>\n",
       "      <td>Night</td>\n",
       "      <td>none</td>\n",
       "    </tr>\n",
       "    <tr>\n",
       "      <th>72</th>\n",
       "      <td>SEP</td>\n",
       "      <td>14</td>\n",
       "      <td>40167</td>\n",
       "      <td>Friday</td>\n",
       "      <td>Cardinals</td>\n",
       "      <td>85</td>\n",
       "      <td>Clear</td>\n",
       "      <td>Night</td>\n",
       "      <td>fireworks</td>\n",
       "    </tr>\n",
       "    <tr>\n",
       "      <th>57</th>\n",
       "      <td>AUG</td>\n",
       "      <td>8</td>\n",
       "      <td>37084</td>\n",
       "      <td>Wednesday</td>\n",
       "      <td>Rockies</td>\n",
       "      <td>84</td>\n",
       "      <td>Clear</td>\n",
       "      <td>Night</td>\n",
       "      <td>none</td>\n",
       "    </tr>\n",
       "    <tr>\n",
       "      <th>66</th>\n",
       "      <td>SEP</td>\n",
       "      <td>1</td>\n",
       "      <td>35992</td>\n",
       "      <td>Saturday</td>\n",
       "      <td>Snakes</td>\n",
       "      <td>81</td>\n",
       "      <td>Clear</td>\n",
       "      <td>Night</td>\n",
       "      <td>none</td>\n",
       "    </tr>\n",
       "    <tr>\n",
       "      <th>74</th>\n",
       "      <td>SEP</td>\n",
       "      <td>16</td>\n",
       "      <td>35754</td>\n",
       "      <td>Sunday</td>\n",
       "      <td>Cardinals</td>\n",
       "      <td>86</td>\n",
       "      <td>Clear</td>\n",
       "      <td>Day</td>\n",
       "      <td>none</td>\n",
       "    </tr>\n",
       "    <tr>\n",
       "      <th>77</th>\n",
       "      <td>SEP</td>\n",
       "      <td>30</td>\n",
       "      <td>35607</td>\n",
       "      <td>Sunday</td>\n",
       "      <td>Rockies</td>\n",
       "      <td>95</td>\n",
       "      <td>Clear</td>\n",
       "      <td>Day</td>\n",
       "      <td>none</td>\n",
       "    </tr>\n",
       "    <tr>\n",
       "      <th>80</th>\n",
       "      <td>OCT</td>\n",
       "      <td>3</td>\n",
       "      <td>34014</td>\n",
       "      <td>Wednesday</td>\n",
       "      <td>Giants</td>\n",
       "      <td>82</td>\n",
       "      <td>Cloudy</td>\n",
       "      <td>Night</td>\n",
       "      <td>none</td>\n",
       "    </tr>\n",
       "    <tr>\n",
       "      <th>78</th>\n",
       "      <td>OCT</td>\n",
       "      <td>1</td>\n",
       "      <td>33624</td>\n",
       "      <td>Monday</td>\n",
       "      <td>Giants</td>\n",
       "      <td>86</td>\n",
       "      <td>Clear</td>\n",
       "      <td>Night</td>\n",
       "      <td>none</td>\n",
       "    </tr>\n",
       "    <tr>\n",
       "      <th>68</th>\n",
       "      <td>SEP</td>\n",
       "      <td>3</td>\n",
       "      <td>33540</td>\n",
       "      <td>Monday</td>\n",
       "      <td>Padres</td>\n",
       "      <td>84</td>\n",
       "      <td>Cloudy</td>\n",
       "      <td>Night</td>\n",
       "      <td>none</td>\n",
       "    </tr>\n",
       "    <tr>\n",
       "      <th>67</th>\n",
       "      <td>SEP</td>\n",
       "      <td>2</td>\n",
       "      <td>31607</td>\n",
       "      <td>Sunday</td>\n",
       "      <td>Snakes</td>\n",
       "      <td>89</td>\n",
       "      <td>Clear</td>\n",
       "      <td>Day</td>\n",
       "      <td>none</td>\n",
       "    </tr>\n",
       "  </tbody>\n",
       "</table>\n",
       "</div>"
      ],
      "text/plain": [
       "   month  day  attend day_of_week   opponent  temp   skies day_night  \\\n",
       "54   AUG    5   42495      Sunday       Cubs    83  Clear        Day   \n",
       "79   OCT    2   42473     Tuesday     Giants    83  Clear      Night   \n",
       "73   SEP   15   42449    Saturday  Cardinals    95  Clear      Night   \n",
       "63   AUG   26   41907      Sunday    Marlins    81  Clear        Day   \n",
       "76   SEP   29   40724    Saturday    Rockies    84  Cloudy     Night   \n",
       "72   SEP   14   40167      Friday  Cardinals    85  Clear      Night   \n",
       "57   AUG    8   37084   Wednesday    Rockies    84  Clear      Night   \n",
       "66   SEP    1   35992    Saturday     Snakes    81  Clear      Night   \n",
       "74   SEP   16   35754      Sunday  Cardinals    86  Clear        Day   \n",
       "77   SEP   30   35607      Sunday    Rockies    95  Clear        Day   \n",
       "80   OCT    3   34014   Wednesday     Giants    82  Cloudy     Night   \n",
       "78   OCT    1   33624      Monday     Giants    86  Clear      Night   \n",
       "68   SEP    3   33540      Monday     Padres    84  Cloudy     Night   \n",
       "67   SEP    2   31607      Sunday     Snakes    89  Clear        Day   \n",
       "\n",
       "        promo  \n",
       "54        cap  \n",
       "79       none  \n",
       "73       none  \n",
       "63       none  \n",
       "76       none  \n",
       "72  fireworks  \n",
       "57       none  \n",
       "66       none  \n",
       "74       none  \n",
       "77       none  \n",
       "80       none  \n",
       "78       none  \n",
       "68       none  \n",
       "67       none  "
      ]
     },
     "execution_count": 11,
     "metadata": {},
     "output_type": "execute_result"
    }
   ],
   "source": [
    "df[df['temp']>80].sort_values(by='attend', ascending=False)"
   ]
  },
  {
   "cell_type": "markdown",
   "metadata": {},
   "source": [
    "When the temperture is greater than $80^{\\circ}$, attendance does not reach 43,000. "
   ]
  },
  {
   "cell_type": "code",
   "execution_count": 70,
   "metadata": {},
   "outputs": [
    {
     "data": {
      "image/png": "[encoded data removed]",
      "text/plain": [
       "<Figure size 864x432 with 1 Axes>"
      ]
     },
     "metadata": {},
     "output_type": "display_data"
    }
   ],
   "source": [
    "sns.set_style(style='white')\n",
    "plt.figure(figsize=(12, 6))\n",
    "ax = sns.boxplot(x='month', y='temp', data=df, order=['APR', 'MAY', 'JUN', 'JUL', 'AUG', 'SEP', 'OCT'], color='darkslateblue')\n",
    "for pos in ['right', 'top']:\n",
    "    plt.gca().spines[pos].set_visible(False)\n",
    "plt.ylabel('temperature', size=16)\n",
    "    \n",
    "plt.show()"
   ]
  },
  {
   "cell_type": "markdown",
   "metadata": {},
   "source": [
    "The months with the highest temperatures are September and October. Now, I will use R to create a linear regression model to predict attendance based on month, day_of_week, and promo."
   ]
  },
  {
   "cell_type": "markdown",
   "metadata": {},
   "source": [
    "**R Code**"
   ]
  },
  {
   "cell_type": "code",
   "execution_count": 1,
   "metadata": {},
   "outputs": [],
   "source": [
    "# Load the data \n",
    "df <- read.csv('dodgers.csv')"
   ]
  },
  {
   "cell_type": "code",
   "execution_count": 4,
   "metadata": {},
   "outputs": [],
   "source": [
    "# Create the promo variable\n",
    "df$promo[df$cap==\"YES\"]<-\"cap\"\n",
    "df$promo[df$shirt==\"YES\"]<-\"shirt\"\n",
    "df$promo[df$fireworks==\"YES\"]<-\"fireworks\"\n",
    "df$promo[df$bobblehead==\"YES\"]<-\"bobblehead\"\n",
    "df$promo[is.na(df$promo)] <- \"none\""
   ]
  },
  {
   "cell_type": "code",
   "execution_count": 5,
   "metadata": {},
   "outputs": [],
   "source": [
    "# Remove individual promotion variables\n",
    "df <- subset(df, select = -c(cap, shirt, fireworks, bobblehead))"
   ]
  },
  {
   "cell_type": "code",
   "execution_count": 6,
   "metadata": {},
   "outputs": [
    {
     "data": {
      "text/html": [
       "<table class=\"dataframe\">\n",
       "<caption>A data.frame: 6 × 9</caption>\n",
       "<thead>\n",
       "\t<tr><th></th><th scope=col>month</th><th scope=col>day</th><th scope=col>attend</th><th scope=col>day_of_week</th><th scope=col>opponent</th><th scope=col>temp</th><th scope=col>skies</th><th scope=col>day_night</th><th scope=col>promo</th></tr>\n",
       "\t<tr><th></th><th scope=col>&lt;fct&gt;</th><th scope=col>&lt;int&gt;</th><th scope=col>&lt;int&gt;</th><th scope=col>&lt;fct&gt;</th><th scope=col>&lt;fct&gt;</th><th scope=col>&lt;int&gt;</th><th scope=col>&lt;fct&gt;</th><th scope=col>&lt;fct&gt;</th><th scope=col>&lt;chr&gt;</th></tr>\n",
       "</thead>\n",
       "<tbody>\n",
       "\t<tr><th scope=row>1</th><td>APR</td><td>10</td><td>56000</td><td>Tuesday  </td><td>Pirates</td><td>67</td><td>Clear </td><td>Day  </td><td>none     </td></tr>\n",
       "\t<tr><th scope=row>2</th><td>APR</td><td>11</td><td>29729</td><td>Wednesday</td><td>Pirates</td><td>58</td><td>Cloudy</td><td>Night</td><td>none     </td></tr>\n",
       "\t<tr><th scope=row>3</th><td>APR</td><td>12</td><td>28328</td><td>Thursday </td><td>Pirates</td><td>57</td><td>Cloudy</td><td>Night</td><td>none     </td></tr>\n",
       "\t<tr><th scope=row>4</th><td>APR</td><td>13</td><td>31601</td><td>Friday   </td><td>Padres </td><td>54</td><td>Cloudy</td><td>Night</td><td>fireworks</td></tr>\n",
       "\t<tr><th scope=row>5</th><td>APR</td><td>14</td><td>46549</td><td>Saturday </td><td>Padres </td><td>57</td><td>Cloudy</td><td>Night</td><td>none     </td></tr>\n",
       "\t<tr><th scope=row>6</th><td>APR</td><td>15</td><td>38359</td><td>Sunday   </td><td>Padres </td><td>65</td><td>Clear </td><td>Day  </td><td>none     </td></tr>\n",
       "</tbody>\n",
       "</table>\n"
      ],
      "text/latex": [
       "A data.frame: 6 × 9\n",
       "\\begin{tabular}{r|lllllllll}\n",
       "  & month & day & attend & day\\_of\\_week & opponent & temp & skies & day\\_night & promo\\\\\n",
       "  & <fct> & <int> & <int> & <fct> & <fct> & <int> & <fct> & <fct> & <chr>\\\\\n",
       "\\hline\n",
       "\t1 & APR & 10 & 56000 & Tuesday   & Pirates & 67 & Clear  & Day   & none     \\\\\n",
       "\t2 & APR & 11 & 29729 & Wednesday & Pirates & 58 & Cloudy & Night & none     \\\\\n",
       "\t3 & APR & 12 & 28328 & Thursday  & Pirates & 57 & Cloudy & Night & none     \\\\\n",
       "\t4 & APR & 13 & 31601 & Friday    & Padres  & 54 & Cloudy & Night & fireworks\\\\\n",
       "\t5 & APR & 14 & 46549 & Saturday  & Padres  & 57 & Cloudy & Night & none     \\\\\n",
       "\t6 & APR & 15 & 38359 & Sunday    & Padres  & 65 & Clear  & Day   & none     \\\\\n",
       "\\end{tabular}\n"
      ],
      "text/markdown": [
       "\n",
       "A data.frame: 6 × 9\n",
       "\n",
       "| <!--/--> | month &lt;fct&gt; | day &lt;int&gt; | attend &lt;int&gt; | day_of_week &lt;fct&gt; | opponent &lt;fct&gt; | temp &lt;int&gt; | skies &lt;fct&gt; | day_night &lt;fct&gt; | promo &lt;chr&gt; |\n",
       "|---|---|---|---|---|---|---|---|---|---|\n",
       "| 1 | APR | 10 | 56000 | Tuesday   | Pirates | 67 | Clear  | Day   | none      |\n",
       "| 2 | APR | 11 | 29729 | Wednesday | Pirates | 58 | Cloudy | Night | none      |\n",
       "| 3 | APR | 12 | 28328 | Thursday  | Pirates | 57 | Cloudy | Night | none      |\n",
       "| 4 | APR | 13 | 31601 | Friday    | Padres  | 54 | Cloudy | Night | fireworks |\n",
       "| 5 | APR | 14 | 46549 | Saturday  | Padres  | 57 | Cloudy | Night | none      |\n",
       "| 6 | APR | 15 | 38359 | Sunday    | Padres  | 65 | Clear  | Day   | none      |\n",
       "\n"
      ],
      "text/plain": [
       "  month day attend day_of_week opponent temp skies  day_night promo    \n",
       "1 APR   10  56000  Tuesday     Pirates  67   Clear  Day       none     \n",
       "2 APR   11  29729  Wednesday   Pirates  58   Cloudy Night     none     \n",
       "3 APR   12  28328  Thursday    Pirates  57   Cloudy Night     none     \n",
       "4 APR   13  31601  Friday      Padres   54   Cloudy Night     fireworks\n",
       "5 APR   14  46549  Saturday    Padres   57   Cloudy Night     none     \n",
       "6 APR   15  38359  Sunday      Padres   65   Clear  Day       none     "
      ]
     },
     "metadata": {},
     "output_type": "display_data"
    }
   ],
   "source": [
    "head(df)"
   ]
  },
  {
   "cell_type": "code",
   "execution_count": 7,
   "metadata": {},
   "outputs": [
    {
     "data": {
      "text/plain": [
       "\n",
       "Call:\n",
       "lm(formula = attend ~ month + day_of_week + promo, data = df)\n",
       "\n",
       "Residuals:\n",
       "   Min     1Q Median     3Q    Max \n",
       " -8748  -3846   -602   2435  15966 \n",
       "\n",
       "Coefficients:\n",
       "                     Estimate Std. Error t value Pr(>|t|)    \n",
       "(Intercept)           32932.9     6937.7   4.747 1.20e-05 ***\n",
       "monthAUG               3341.1     2304.3   1.450 0.151961    \n",
       "monthJUL               2564.3     2555.9   1.003 0.319512    \n",
       "monthJUN               6933.4     2573.8   2.694 0.009009 ** \n",
       "monthMAY              -1924.8     2175.8  -0.885 0.379664    \n",
       "monthOCT                221.8     3825.9   0.058 0.953946    \n",
       "monthSEP               -102.9     2367.3  -0.043 0.965452    \n",
       "day_of_weekMonday     10931.4     6802.8   1.607 0.112998    \n",
       "day_of_weekSaturday   17884.0     6658.4   2.686 0.009202 ** \n",
       "day_of_weekSunday     18225.2     6712.9   2.715 0.008510 ** \n",
       "day_of_weekThursday   12245.2     6947.4   1.763 0.082750 .  \n",
       "day_of_weekTuesday    19352.0     6811.9   2.841 0.006026 ** \n",
       "day_of_weekWednesday  12463.7     6241.5   1.997 0.050090 .  \n",
       "promocap             -16484.7     4550.7  -3.622 0.000578 ***\n",
       "promofireworks         5609.1     6578.2   0.853 0.397023    \n",
       "promonone            -10700.1     2346.5  -4.560 2.37e-05 ***\n",
       "promoshirt            -4735.6     4101.3  -1.155 0.252525    \n",
       "---\n",
       "Signif. codes:  0 '***' 0.001 '**' 0.01 '*' 0.05 '.' 0.1 ' ' 1\n",
       "\n",
       "Residual standard error: 5745 on 64 degrees of freedom\n",
       "Multiple R-squared:  0.6165,\tAdjusted R-squared:  0.5206 \n",
       "F-statistic: 6.429 on 16 and 64 DF,  p-value: 2.87e-08\n"
      ]
     },
     "metadata": {},
     "output_type": "display_data"
    }
   ],
   "source": [
    "model = lm(attend ~ month + day_of_week + promo, df)\n",
    "summary(model)"
   ]
  },
  {
   "cell_type": "markdown",
   "metadata": {},
   "source": [
    "Now I will make predictions using the linear model to decide when to run the marketing promotion. First, I will look at Monday's in September. "
   ]
  },
  {
   "cell_type": "code",
   "execution_count": 8,
   "metadata": {},
   "outputs": [
    {
     "data": {
      "text/html": [
       "<strong>1:</strong> 43761.4207760481"
      ],
      "text/latex": [
       "\\textbf{1:} 43761.4207760481"
      ],
      "text/markdown": [
       "**1:** 43761.4207760481"
      ],
      "text/plain": [
       "       1 \n",
       "43761.42 "
      ]
     },
     "metadata": {},
     "output_type": "display_data"
    }
   ],
   "source": [
    "sep_pred <- predict(model, data.frame(month = \"SEP\", day_of_week = \"Monday\", promo = \"bobblehead\"))\n",
    "sep_pred"
   ]
  },
  {
   "cell_type": "markdown",
   "metadata": {},
   "source": [
    "Based on the linear model, attendance will be approximately 43761 when running a bobblehead marketing promotion for games on Monday's in September. "
   ]
  },
  {
   "cell_type": "code",
   "execution_count": 8,
   "metadata": {},
   "outputs": [
    {
     "data": {
      "text/html": [
       "<table>\n",
       "<thead><tr><th></th><th scope=col>month</th><th scope=col>day</th><th scope=col>attend</th><th scope=col>day_of_week</th><th scope=col>opponent</th><th scope=col>temp</th><th scope=col>skies</th><th scope=col>day_night</th><th scope=col>promo</th></tr></thead>\n",
       "<tbody>\n",
       "\t<tr><th scope=row>69</th><td>SEP   </td><td>3     </td><td>33540 </td><td>Monday</td><td>Padres</td><td>84    </td><td>Cloudy</td><td>Night </td><td>none  </td></tr>\n",
       "</tbody>\n",
       "</table>\n"
      ],
      "text/latex": [
       "\\begin{tabular}{r|lllllllll}\n",
       "  & month & day & attend & day\\_of\\_week & opponent & temp & skies & day\\_night & promo\\\\\n",
       "\\hline\n",
       "\t69 & SEP    & 3      & 33540  & Monday & Padres & 84     & Cloudy & Night  & none  \\\\\n",
       "\\end{tabular}\n"
      ],
      "text/markdown": [
       "\n",
       "| <!--/--> | month | day | attend | day_of_week | opponent | temp | skies | day_night | promo |\n",
       "|---|---|---|---|---|---|---|---|---|---|\n",
       "| 69 | SEP    | 3      | 33540  | Monday | Padres | 84     | Cloudy | Night  | none   |\n",
       "\n"
      ],
      "text/plain": [
       "   month day attend day_of_week opponent temp skies  day_night promo\n",
       "69 SEP   3   33540  Monday      Padres   84   Cloudy Night     none "
      ]
     },
     "metadata": {},
     "output_type": "display_data"
    }
   ],
   "source": [
    "subset(df, month==\"SEP\" & day_of_week==\"Monday\")"
   ]
  },
  {
   "cell_type": "code",
   "execution_count": 9,
   "metadata": {},
   "outputs": [
    {
     "data": {
      "text/html": [
       "<strong>1:</strong> 33061.2754230337"
      ],
      "text/latex": [
       "\\textbf{1:} 33061.2754230337"
      ],
      "text/markdown": [
       "**1:** 33061.2754230337"
      ],
      "text/plain": [
       "       1 \n",
       "33061.28 "
      ]
     },
     "metadata": {},
     "output_type": "display_data"
    }
   ],
   "source": [
    "predict(model, data.frame(month = \"SEP\", day_of_week = \"Monday\", promo = \"none\"))"
   ]
  },
  {
   "cell_type": "markdown",
   "metadata": {},
   "source": [
    "There was only one Monday game played in September. There was no promotion and attendance was 33540. The linear regression model predicted attendance to be 33061, which is less than actual attendance (but minimal)."
   ]
  },
  {
   "cell_type": "code",
   "execution_count": 10,
   "metadata": {},
   "outputs": [
    {
     "data": {
      "text/html": [
       "<strong>1:</strong> 0.304753153728327"
      ],
      "text/latex": [
       "\\textbf{1:} 0.304753153728327"
      ],
      "text/markdown": [
       "**1:** 0.304753153728327"
      ],
      "text/plain": [
       "        1 \n",
       "0.3047532 "
      ]
     },
     "metadata": {},
     "output_type": "display_data"
    }
   ],
   "source": [
    "(sep_pred - 33540) / 33540"
   ]
  },
  {
   "cell_type": "markdown",
   "metadata": {},
   "source": [
    "Based on the model, attendance has the possibility of increasing attendance by 30% if a bobblehead marketing promotion is ran on Monday games in September. Now, I will look at Monday's in October. "
   ]
  },
  {
   "cell_type": "code",
   "execution_count": 11,
   "metadata": {},
   "outputs": [
    {
     "data": {
      "text/html": [
       "<strong>1:</strong> 44086.1830209086"
      ],
      "text/latex": [
       "\\textbf{1:} 44086.1830209086"
      ],
      "text/markdown": [
       "**1:** 44086.1830209086"
      ],
      "text/plain": [
       "       1 \n",
       "44086.18 "
      ]
     },
     "metadata": {},
     "output_type": "display_data"
    }
   ],
   "source": [
    "oct_pred <- predict(model, data.frame(month = \"OCT\", day_of_week = \"Monday\", promo = \"bobblehead\"))\n",
    "oct_pred"
   ]
  },
  {
   "cell_type": "markdown",
   "metadata": {},
   "source": [
    "Based on the linear model, attendance will be approximately 44086 when running a bobblehead marketing promotion for games on Monday's in October. "
   ]
  },
  {
   "cell_type": "code",
   "execution_count": 12,
   "metadata": {},
   "outputs": [
    {
     "data": {
      "text/html": [
       "<table>\n",
       "<thead><tr><th></th><th scope=col>month</th><th scope=col>day</th><th scope=col>attend</th><th scope=col>day_of_week</th><th scope=col>opponent</th><th scope=col>temp</th><th scope=col>skies</th><th scope=col>day_night</th><th scope=col>promo</th></tr></thead>\n",
       "<tbody>\n",
       "\t<tr><th scope=row>79</th><td>OCT   </td><td>1     </td><td>33624 </td><td>Monday</td><td>Giants</td><td>86    </td><td>Clear </td><td>Night </td><td>none  </td></tr>\n",
       "</tbody>\n",
       "</table>\n"
      ],
      "text/latex": [
       "\\begin{tabular}{r|lllllllll}\n",
       "  & month & day & attend & day\\_of\\_week & opponent & temp & skies & day\\_night & promo\\\\\n",
       "\\hline\n",
       "\t79 & OCT    & 1      & 33624  & Monday & Giants & 86     & Clear  & Night  & none  \\\\\n",
       "\\end{tabular}\n"
      ],
      "text/markdown": [
       "\n",
       "| <!--/--> | month | day | attend | day_of_week | opponent | temp | skies | day_night | promo |\n",
       "|---|---|---|---|---|---|---|---|---|---|\n",
       "| 79 | OCT    | 1      | 33624  | Monday | Giants | 86     | Clear  | Night  | none   |\n",
       "\n"
      ],
      "text/plain": [
       "   month day attend day_of_week opponent temp skies  day_night promo\n",
       "79 OCT   1   33624  Monday      Giants   86   Clear  Night     none "
      ]
     },
     "metadata": {},
     "output_type": "display_data"
    }
   ],
   "source": [
    "subset(df, month==\"OCT\" & day_of_week==\"Monday\")"
   ]
  },
  {
   "cell_type": "code",
   "execution_count": 13,
   "metadata": {},
   "outputs": [
    {
     "data": {
      "text/html": [
       "<strong>1:</strong> 33386.0376678942"
      ],
      "text/latex": [
       "\\textbf{1:} 33386.0376678942"
      ],
      "text/markdown": [
       "**1:** 33386.0376678942"
      ],
      "text/plain": [
       "       1 \n",
       "33386.04 "
      ]
     },
     "metadata": {},
     "output_type": "display_data"
    }
   ],
   "source": [
    "predict(model, data.frame(month = \"OCT\", day_of_week = \"Monday\", promo = \"none\"))"
   ]
  },
  {
   "cell_type": "markdown",
   "metadata": {},
   "source": [
    "There was only one Monday game played in October. There was no promotion and attendance was 33624. The linear regression model predicted attendance to be 33386, which is less than actual attendance (but minimal)."
   ]
  },
  {
   "cell_type": "code",
   "execution_count": 14,
   "metadata": {},
   "outputs": [
    {
     "data": {
      "text/html": [
       "<strong>1:</strong> 0.311152243067708"
      ],
      "text/latex": [
       "\\textbf{1:} 0.311152243067708"
      ],
      "text/markdown": [
       "**1:** 0.311152243067708"
      ],
      "text/plain": [
       "        1 \n",
       "0.3111522 "
      ]
     },
     "metadata": {},
     "output_type": "display_data"
    }
   ],
   "source": [
    "(oct_pred - 33624) / 33624"
   ]
  },
  {
   "cell_type": "markdown",
   "metadata": {},
   "source": [
    "Based on the model, attendance has the possibility of increasing attendance by 31% if a bobblehead marketing promotion is ran on Monday games in October. Therefore, I would recommend running bobblehead marketing promotions on Monday games in September and October. "
   ]
  }
 ],
 "metadata": {
  "kernelspec": {
   "display_name": "R",
   "language": "R",
   "name": "ir"
  },
  "language_info": {
   "codemirror_mode": "r",
   "file_extension": ".r",
   "mimetype": "text/x-r-source",
   "name": "R",
   "pygments_lexer": "r",
   "version": "3.6.3"
  }
 },
 "nbformat": 4,
 "nbformat_minor": 4
}
